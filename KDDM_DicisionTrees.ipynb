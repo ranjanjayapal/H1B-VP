{
 "cells": [
  {
   "cell_type": "code",
   "execution_count": 25,
   "metadata": {},
   "outputs": [],
   "source": [
    "import pandas as pd\n",
    "import numpy as np"
   ]
  },
  {
   "cell_type": "code",
   "execution_count": 26,
   "metadata": {},
   "outputs": [
    {
     "name": "stderr",
     "output_type": "stream",
     "text": [
      "/usr/local/lib/python3.6/site-packages/IPython/core/interactiveshell.py:2728: DtypeWarning: Columns (5,6,8,9) have mixed types. Specify dtype option on import or set low_memory=False.\n",
      "  interactivity=interactivity, compiler=compiler, result=result)\n"
     ]
    },
    {
     "data": {
      "text/html": [
       "<div>\n",
       "<style scoped>\n",
       "    .dataframe tbody tr th:only-of-type {\n",
       "        vertical-align: middle;\n",
       "    }\n",
       "\n",
       "    .dataframe tbody tr th {\n",
       "        vertical-align: top;\n",
       "    }\n",
       "\n",
       "    .dataframe thead th {\n",
       "        text-align: right;\n",
       "    }\n",
       "</style>\n",
       "<table border=\"1\" class=\"dataframe\">\n",
       "  <thead>\n",
       "    <tr style=\"text-align: right;\">\n",
       "      <th></th>\n",
       "      <th>ID</th>\n",
       "      <th>EMPLOYER_NAME</th>\n",
       "      <th>SOC_NAME</th>\n",
       "      <th>JOB_TITLE</th>\n",
       "      <th>FULL_TIME_POSITION</th>\n",
       "      <th>PREVAILING_WAGE</th>\n",
       "      <th>YEAR</th>\n",
       "      <th>WORKSITE</th>\n",
       "      <th>lon</th>\n",
       "      <th>lat</th>\n",
       "      <th>CASE_STATUS</th>\n",
       "    </tr>\n",
       "  </thead>\n",
       "  <tbody>\n",
       "    <tr>\n",
       "      <th>0</th>\n",
       "      <td>NaN</td>\n",
       "      <td>EMPLOYER_NAME</td>\n",
       "      <td>SOC_NAME</td>\n",
       "      <td>JOB_TITLE</td>\n",
       "      <td>FULL_TIME_POSITION</td>\n",
       "      <td>PREVAILING_WAGE</td>\n",
       "      <td>YEAR</td>\n",
       "      <td>WORKSITE</td>\n",
       "      <td>lon</td>\n",
       "      <td>lat</td>\n",
       "      <td>CASE_STATUS</td>\n",
       "    </tr>\n",
       "    <tr>\n",
       "      <th>1</th>\n",
       "      <td>1.0</td>\n",
       "      <td>UNIVERSITY OF MICHIGAN</td>\n",
       "      <td>BIOCHEMISTS AND BIOPHYSICISTS</td>\n",
       "      <td>POSTDOCTORAL RESEARCH FELLOW</td>\n",
       "      <td>N</td>\n",
       "      <td>36067</td>\n",
       "      <td>2016</td>\n",
       "      <td>ANN ARBOR, MICHIGAN</td>\n",
       "      <td>-83.7430378</td>\n",
       "      <td>42.2808256</td>\n",
       "      <td>CERTIFIED-WITHDRAWN</td>\n",
       "    </tr>\n",
       "    <tr>\n",
       "      <th>2</th>\n",
       "      <td>2.0</td>\n",
       "      <td>GOODMAN NETWORKS, INC.</td>\n",
       "      <td>CHIEF EXECUTIVES</td>\n",
       "      <td>CHIEF OPERATING OFFICER</td>\n",
       "      <td>Y</td>\n",
       "      <td>242674</td>\n",
       "      <td>2016</td>\n",
       "      <td>PLANO, TEXAS</td>\n",
       "      <td>-96.6988856</td>\n",
       "      <td>33.0198431</td>\n",
       "      <td>CERTIFIED-WITHDRAWN</td>\n",
       "    </tr>\n",
       "    <tr>\n",
       "      <th>3</th>\n",
       "      <td>3.0</td>\n",
       "      <td>PORTS AMERICA GROUP, INC.</td>\n",
       "      <td>CHIEF EXECUTIVES</td>\n",
       "      <td>CHIEF PROCESS OFFICER</td>\n",
       "      <td>Y</td>\n",
       "      <td>193066</td>\n",
       "      <td>2016</td>\n",
       "      <td>JERSEY CITY, NEW JERSEY</td>\n",
       "      <td>-74.0776417</td>\n",
       "      <td>40.7281575</td>\n",
       "      <td>CERTIFIED-WITHDRAWN</td>\n",
       "    </tr>\n",
       "    <tr>\n",
       "      <th>4</th>\n",
       "      <td>4.0</td>\n",
       "      <td>GATES CORPORATION, A WHOLLY-OWNED SUBSIDIARY O...</td>\n",
       "      <td>CHIEF EXECUTIVES</td>\n",
       "      <td>REGIONAL PRESIDEN, AMERICAS</td>\n",
       "      <td>Y</td>\n",
       "      <td>220314</td>\n",
       "      <td>2016</td>\n",
       "      <td>DENVER, COLORADO</td>\n",
       "      <td>-104.990251</td>\n",
       "      <td>39.7392358</td>\n",
       "      <td>CERTIFIED-WITHDRAWN</td>\n",
       "    </tr>\n",
       "  </tbody>\n",
       "</table>\n",
       "</div>"
      ],
      "text/plain": [
       "    ID                                      EMPLOYER_NAME  \\\n",
       "0  NaN                                      EMPLOYER_NAME   \n",
       "1  1.0                             UNIVERSITY OF MICHIGAN   \n",
       "2  2.0                             GOODMAN NETWORKS, INC.   \n",
       "3  3.0                          PORTS AMERICA GROUP, INC.   \n",
       "4  4.0  GATES CORPORATION, A WHOLLY-OWNED SUBSIDIARY O...   \n",
       "\n",
       "                        SOC_NAME                     JOB_TITLE  \\\n",
       "0                       SOC_NAME                     JOB_TITLE   \n",
       "1  BIOCHEMISTS AND BIOPHYSICISTS  POSTDOCTORAL RESEARCH FELLOW   \n",
       "2               CHIEF EXECUTIVES       CHIEF OPERATING OFFICER   \n",
       "3               CHIEF EXECUTIVES         CHIEF PROCESS OFFICER   \n",
       "4               CHIEF EXECUTIVES   REGIONAL PRESIDEN, AMERICAS   \n",
       "\n",
       "   FULL_TIME_POSITION  PREVAILING_WAGE  YEAR                 WORKSITE  \\\n",
       "0  FULL_TIME_POSITION  PREVAILING_WAGE  YEAR                 WORKSITE   \n",
       "1                   N            36067  2016      ANN ARBOR, MICHIGAN   \n",
       "2                   Y           242674  2016             PLANO, TEXAS   \n",
       "3                   Y           193066  2016  JERSEY CITY, NEW JERSEY   \n",
       "4                   Y           220314  2016         DENVER, COLORADO   \n",
       "\n",
       "           lon         lat          CASE_STATUS  \n",
       "0          lon         lat          CASE_STATUS  \n",
       "1  -83.7430378  42.2808256  CERTIFIED-WITHDRAWN  \n",
       "2  -96.6988856  33.0198431  CERTIFIED-WITHDRAWN  \n",
       "3  -74.0776417  40.7281575  CERTIFIED-WITHDRAWN  \n",
       "4  -104.990251  39.7392358  CERTIFIED-WITHDRAWN  "
      ]
     },
     "execution_count": 26,
     "metadata": {},
     "output_type": "execute_result"
    }
   ],
   "source": [
    "from sklearn import tree\n",
    "import sklearn\n",
    "import matplotlib.pyplot as plt\n",
    "from sklearn.cross_validation import train_test_split\n",
    "data2 = pd.read_csv(\"/Users/rjmac/Desktop/h1b_kaggle.csv\",encoding = \"ISO-8859-1\", header=None, names=[\"ID\",\"EMPLOYER_NAME\",\"SOC_NAME\",\"JOB_TITLE\",\"FULL_TIME_POSITION\",\"PREVAILING_WAGE\",\"YEAR\",\"WORKSITE\",\"lon\",\"lat\",\"CASE_STATUS\"])\n",
    "data2.head()"
   ]
  },
  {
   "cell_type": "code",
   "execution_count": 27,
   "metadata": {},
   "outputs": [],
   "source": [
    "data2 = data2.dropna()"
   ]
  },
  {
   "cell_type": "code",
   "execution_count": 28,
   "metadata": {},
   "outputs": [
    {
     "data": {
      "text/plain": [
       "ID                    1018976\n",
       "EMPLOYER_NAME         1018976\n",
       "SOC_NAME              1018976\n",
       "JOB_TITLE             1018976\n",
       "FULL_TIME_POSITION    1018976\n",
       "PREVAILING_WAGE       1018976\n",
       "YEAR                  1018976\n",
       "WORKSITE              1018976\n",
       "lon                   1018976\n",
       "lat                   1018976\n",
       "CASE_STATUS           1018976\n",
       "dtype: int64"
      ]
     },
     "execution_count": 28,
     "metadata": {},
     "output_type": "execute_result"
    }
   ],
   "source": [
    "data2.count()"
   ]
  },
  {
   "cell_type": "code",
   "execution_count": 29,
   "metadata": {},
   "outputs": [
    {
     "data": {
      "text/html": [
       "<div>\n",
       "<style scoped>\n",
       "    .dataframe tbody tr th:only-of-type {\n",
       "        vertical-align: middle;\n",
       "    }\n",
       "\n",
       "    .dataframe tbody tr th {\n",
       "        vertical-align: top;\n",
       "    }\n",
       "\n",
       "    .dataframe thead th {\n",
       "        text-align: right;\n",
       "    }\n",
       "</style>\n",
       "<table border=\"1\" class=\"dataframe\">\n",
       "  <thead>\n",
       "    <tr style=\"text-align: right;\">\n",
       "      <th></th>\n",
       "      <th>EMPLOYER_NAME</th>\n",
       "      <th>SOC_NAME</th>\n",
       "      <th>JOB_TITLE</th>\n",
       "      <th>FULL_TIME_POSITION</th>\n",
       "      <th>PREVAILING_WAGE</th>\n",
       "      <th>YEAR</th>\n",
       "      <th>WORKSITE</th>\n",
       "      <th>lon</th>\n",
       "      <th>lat</th>\n",
       "      <th>CASE_STATUS</th>\n",
       "    </tr>\n",
       "  </thead>\n",
       "  <tbody>\n",
       "    <tr>\n",
       "      <th>1</th>\n",
       "      <td>UNIVERSITY OF MICHIGAN</td>\n",
       "      <td>BIOCHEMISTS AND BIOPHYSICISTS</td>\n",
       "      <td>POSTDOCTORAL RESEARCH FELLOW</td>\n",
       "      <td>N</td>\n",
       "      <td>36067</td>\n",
       "      <td>2016</td>\n",
       "      <td>ANN ARBOR, MICHIGAN</td>\n",
       "      <td>-83.7430378</td>\n",
       "      <td>42.2808256</td>\n",
       "      <td>CERTIFIED-WITHDRAWN</td>\n",
       "    </tr>\n",
       "    <tr>\n",
       "      <th>2</th>\n",
       "      <td>GOODMAN NETWORKS, INC.</td>\n",
       "      <td>CHIEF EXECUTIVES</td>\n",
       "      <td>CHIEF OPERATING OFFICER</td>\n",
       "      <td>Y</td>\n",
       "      <td>242674</td>\n",
       "      <td>2016</td>\n",
       "      <td>PLANO, TEXAS</td>\n",
       "      <td>-96.6988856</td>\n",
       "      <td>33.0198431</td>\n",
       "      <td>CERTIFIED-WITHDRAWN</td>\n",
       "    </tr>\n",
       "    <tr>\n",
       "      <th>3</th>\n",
       "      <td>PORTS AMERICA GROUP, INC.</td>\n",
       "      <td>CHIEF EXECUTIVES</td>\n",
       "      <td>CHIEF PROCESS OFFICER</td>\n",
       "      <td>Y</td>\n",
       "      <td>193066</td>\n",
       "      <td>2016</td>\n",
       "      <td>JERSEY CITY, NEW JERSEY</td>\n",
       "      <td>-74.0776417</td>\n",
       "      <td>40.7281575</td>\n",
       "      <td>CERTIFIED-WITHDRAWN</td>\n",
       "    </tr>\n",
       "    <tr>\n",
       "      <th>4</th>\n",
       "      <td>GATES CORPORATION, A WHOLLY-OWNED SUBSIDIARY O...</td>\n",
       "      <td>CHIEF EXECUTIVES</td>\n",
       "      <td>REGIONAL PRESIDEN, AMERICAS</td>\n",
       "      <td>Y</td>\n",
       "      <td>220314</td>\n",
       "      <td>2016</td>\n",
       "      <td>DENVER, COLORADO</td>\n",
       "      <td>-104.990251</td>\n",
       "      <td>39.7392358</td>\n",
       "      <td>CERTIFIED-WITHDRAWN</td>\n",
       "    </tr>\n",
       "    <tr>\n",
       "      <th>5</th>\n",
       "      <td>PEABODY INVESTMENTS CORP.</td>\n",
       "      <td>CHIEF EXECUTIVES</td>\n",
       "      <td>PRESIDENT MONGOLIA AND INDIA</td>\n",
       "      <td>Y</td>\n",
       "      <td>157518.4</td>\n",
       "      <td>2016</td>\n",
       "      <td>ST. LOUIS, MISSOURI</td>\n",
       "      <td>-90.1994042</td>\n",
       "      <td>38.6270025</td>\n",
       "      <td>WITHDRAWN</td>\n",
       "    </tr>\n",
       "  </tbody>\n",
       "</table>\n",
       "</div>"
      ],
      "text/plain": [
       "                                       EMPLOYER_NAME  \\\n",
       "1                             UNIVERSITY OF MICHIGAN   \n",
       "2                             GOODMAN NETWORKS, INC.   \n",
       "3                          PORTS AMERICA GROUP, INC.   \n",
       "4  GATES CORPORATION, A WHOLLY-OWNED SUBSIDIARY O...   \n",
       "5                          PEABODY INVESTMENTS CORP.   \n",
       "\n",
       "                        SOC_NAME                     JOB_TITLE  \\\n",
       "1  BIOCHEMISTS AND BIOPHYSICISTS  POSTDOCTORAL RESEARCH FELLOW   \n",
       "2               CHIEF EXECUTIVES       CHIEF OPERATING OFFICER   \n",
       "3               CHIEF EXECUTIVES         CHIEF PROCESS OFFICER   \n",
       "4               CHIEF EXECUTIVES   REGIONAL PRESIDEN, AMERICAS   \n",
       "5               CHIEF EXECUTIVES  PRESIDENT MONGOLIA AND INDIA   \n",
       "\n",
       "  FULL_TIME_POSITION PREVAILING_WAGE  YEAR                 WORKSITE  \\\n",
       "1                  N           36067  2016      ANN ARBOR, MICHIGAN   \n",
       "2                  Y          242674  2016             PLANO, TEXAS   \n",
       "3                  Y          193066  2016  JERSEY CITY, NEW JERSEY   \n",
       "4                  Y          220314  2016         DENVER, COLORADO   \n",
       "5                  Y        157518.4  2016      ST. LOUIS, MISSOURI   \n",
       "\n",
       "           lon         lat          CASE_STATUS  \n",
       "1  -83.7430378  42.2808256  CERTIFIED-WITHDRAWN  \n",
       "2  -96.6988856  33.0198431  CERTIFIED-WITHDRAWN  \n",
       "3  -74.0776417  40.7281575  CERTIFIED-WITHDRAWN  \n",
       "4  -104.990251  39.7392358  CERTIFIED-WITHDRAWN  \n",
       "5  -90.1994042  38.6270025            WITHDRAWN  "
      ]
     },
     "execution_count": 29,
     "metadata": {},
     "output_type": "execute_result"
    }
   ],
   "source": [
    "data2 = data2.iloc[:,1:]\n",
    "data2.head()"
   ]
  },
  {
   "cell_type": "code",
   "execution_count": 30,
   "metadata": {},
   "outputs": [
    {
     "data": {
      "text/plain": [
       "92675"
      ]
     },
     "execution_count": 30,
     "metadata": {},
     "output_type": "execute_result"
    }
   ],
   "source": [
    "len(set(list(data2['EMPLOYER_NAME'])))"
   ]
  },
  {
   "cell_type": "code",
   "execution_count": 31,
   "metadata": {},
   "outputs": [],
   "source": [
    "data2['EMPLOYER_NAME'] = data2['EMPLOYER_NAME'].astype('category')\n",
    "data2['SOC_NAME'] = data2['SOC_NAME'].astype('category')\n",
    "data2['JOB_TITLE'] = data2['JOB_TITLE'].astype('category')\n",
    "data2['FULL_TIME_POSITION'] = data2['FULL_TIME_POSITION'].astype('category')\n",
    "data2['WORKSITE'] = data2['WORKSITE'].astype('category')\n",
    "data2['CASE_STATUS'] = data2['CASE_STATUS'].astype('category')\n",
    "data2['PREVAILING_WAGE'] = data2['PREVAILING_WAGE'].astype('float')\n",
    "data2['lon'] = data2['lon'].astype('float')\n",
    "data2['lat'] = data2['lat'].astype('float')\n",
    "data2['YEAR'] = data2['YEAR'].astype('float')"
   ]
  },
  {
   "cell_type": "code",
   "execution_count": 32,
   "metadata": {
    "scrolled": true
   },
   "outputs": [
    {
     "data": {
      "text/html": [
       "<div>\n",
       "<style scoped>\n",
       "    .dataframe tbody tr th:only-of-type {\n",
       "        vertical-align: middle;\n",
       "    }\n",
       "\n",
       "    .dataframe tbody tr th {\n",
       "        vertical-align: top;\n",
       "    }\n",
       "\n",
       "    .dataframe thead th {\n",
       "        text-align: right;\n",
       "    }\n",
       "</style>\n",
       "<table border=\"1\" class=\"dataframe\">\n",
       "  <thead>\n",
       "    <tr style=\"text-align: right;\">\n",
       "      <th></th>\n",
       "      <th>EMPLOYER_NAME</th>\n",
       "      <th>SOC_NAME</th>\n",
       "      <th>JOB_TITLE</th>\n",
       "      <th>FULL_TIME_POSITION</th>\n",
       "      <th>PREVAILING_WAGE</th>\n",
       "      <th>YEAR</th>\n",
       "      <th>WORKSITE</th>\n",
       "      <th>lon</th>\n",
       "      <th>lat</th>\n",
       "      <th>CASE_STATUS</th>\n",
       "    </tr>\n",
       "  </thead>\n",
       "  <tbody>\n",
       "    <tr>\n",
       "      <th>1</th>\n",
       "      <td>UNIVERSITY OF MICHIGAN</td>\n",
       "      <td>BIOCHEMISTS AND BIOPHYSICISTS</td>\n",
       "      <td>POSTDOCTORAL RESEARCH FELLOW</td>\n",
       "      <td>N</td>\n",
       "      <td>36067.0</td>\n",
       "      <td>2016.0</td>\n",
       "      <td>ANN ARBOR, MICHIGAN</td>\n",
       "      <td>-83.743038</td>\n",
       "      <td>42.280826</td>\n",
       "      <td>CERTIFIED-WITHDRAWN</td>\n",
       "    </tr>\n",
       "    <tr>\n",
       "      <th>2</th>\n",
       "      <td>GOODMAN NETWORKS, INC.</td>\n",
       "      <td>CHIEF EXECUTIVES</td>\n",
       "      <td>CHIEF OPERATING OFFICER</td>\n",
       "      <td>Y</td>\n",
       "      <td>242674.0</td>\n",
       "      <td>2016.0</td>\n",
       "      <td>PLANO, TEXAS</td>\n",
       "      <td>-96.698886</td>\n",
       "      <td>33.019843</td>\n",
       "      <td>CERTIFIED-WITHDRAWN</td>\n",
       "    </tr>\n",
       "    <tr>\n",
       "      <th>3</th>\n",
       "      <td>PORTS AMERICA GROUP, INC.</td>\n",
       "      <td>CHIEF EXECUTIVES</td>\n",
       "      <td>CHIEF PROCESS OFFICER</td>\n",
       "      <td>Y</td>\n",
       "      <td>193066.0</td>\n",
       "      <td>2016.0</td>\n",
       "      <td>JERSEY CITY, NEW JERSEY</td>\n",
       "      <td>-74.077642</td>\n",
       "      <td>40.728158</td>\n",
       "      <td>CERTIFIED-WITHDRAWN</td>\n",
       "    </tr>\n",
       "    <tr>\n",
       "      <th>4</th>\n",
       "      <td>GATES CORPORATION, A WHOLLY-OWNED SUBSIDIARY O...</td>\n",
       "      <td>CHIEF EXECUTIVES</td>\n",
       "      <td>REGIONAL PRESIDEN, AMERICAS</td>\n",
       "      <td>Y</td>\n",
       "      <td>220314.0</td>\n",
       "      <td>2016.0</td>\n",
       "      <td>DENVER, COLORADO</td>\n",
       "      <td>-104.990251</td>\n",
       "      <td>39.739236</td>\n",
       "      <td>CERTIFIED-WITHDRAWN</td>\n",
       "    </tr>\n",
       "    <tr>\n",
       "      <th>5</th>\n",
       "      <td>PEABODY INVESTMENTS CORP.</td>\n",
       "      <td>CHIEF EXECUTIVES</td>\n",
       "      <td>PRESIDENT MONGOLIA AND INDIA</td>\n",
       "      <td>Y</td>\n",
       "      <td>157518.4</td>\n",
       "      <td>2016.0</td>\n",
       "      <td>ST. LOUIS, MISSOURI</td>\n",
       "      <td>-90.199404</td>\n",
       "      <td>38.627003</td>\n",
       "      <td>WITHDRAWN</td>\n",
       "    </tr>\n",
       "  </tbody>\n",
       "</table>\n",
       "</div>"
      ],
      "text/plain": [
       "                                       EMPLOYER_NAME  \\\n",
       "1                             UNIVERSITY OF MICHIGAN   \n",
       "2                             GOODMAN NETWORKS, INC.   \n",
       "3                          PORTS AMERICA GROUP, INC.   \n",
       "4  GATES CORPORATION, A WHOLLY-OWNED SUBSIDIARY O...   \n",
       "5                          PEABODY INVESTMENTS CORP.   \n",
       "\n",
       "                        SOC_NAME                     JOB_TITLE  \\\n",
       "1  BIOCHEMISTS AND BIOPHYSICISTS  POSTDOCTORAL RESEARCH FELLOW   \n",
       "2               CHIEF EXECUTIVES       CHIEF OPERATING OFFICER   \n",
       "3               CHIEF EXECUTIVES         CHIEF PROCESS OFFICER   \n",
       "4               CHIEF EXECUTIVES   REGIONAL PRESIDEN, AMERICAS   \n",
       "5               CHIEF EXECUTIVES  PRESIDENT MONGOLIA AND INDIA   \n",
       "\n",
       "  FULL_TIME_POSITION  PREVAILING_WAGE    YEAR                 WORKSITE  \\\n",
       "1                  N          36067.0  2016.0      ANN ARBOR, MICHIGAN   \n",
       "2                  Y         242674.0  2016.0             PLANO, TEXAS   \n",
       "3                  Y         193066.0  2016.0  JERSEY CITY, NEW JERSEY   \n",
       "4                  Y         220314.0  2016.0         DENVER, COLORADO   \n",
       "5                  Y         157518.4  2016.0      ST. LOUIS, MISSOURI   \n",
       "\n",
       "          lon        lat          CASE_STATUS  \n",
       "1  -83.743038  42.280826  CERTIFIED-WITHDRAWN  \n",
       "2  -96.698886  33.019843  CERTIFIED-WITHDRAWN  \n",
       "3  -74.077642  40.728158  CERTIFIED-WITHDRAWN  \n",
       "4 -104.990251  39.739236  CERTIFIED-WITHDRAWN  \n",
       "5  -90.199404  38.627003            WITHDRAWN  "
      ]
     },
     "execution_count": 32,
     "metadata": {},
     "output_type": "execute_result"
    }
   ],
   "source": [
    "data2.head()"
   ]
  },
  {
   "cell_type": "code",
   "execution_count": 33,
   "metadata": {},
   "outputs": [
    {
     "data": {
      "text/plain": [
       "Index(['EMPLOYER_NAME', 'SOC_NAME', 'JOB_TITLE', 'FULL_TIME_POSITION',\n",
       "       'WORKSITE', 'CASE_STATUS'],\n",
       "      dtype='object')"
      ]
     },
     "execution_count": 33,
     "metadata": {},
     "output_type": "execute_result"
    }
   ],
   "source": [
    "category_columns = data2.select_dtypes(['category']).columns\n",
    "category_columns"
   ]
  },
  {
   "cell_type": "code",
   "execution_count": 34,
   "metadata": {},
   "outputs": [],
   "source": [
    "data2[category_columns] = data2[category_columns].apply(lambda x: x.cat.codes)"
   ]
  },
  {
   "cell_type": "code",
   "execution_count": 35,
   "metadata": {},
   "outputs": [
    {
     "data": {
      "text/html": [
       "<div>\n",
       "<style scoped>\n",
       "    .dataframe tbody tr th:only-of-type {\n",
       "        vertical-align: middle;\n",
       "    }\n",
       "\n",
       "    .dataframe tbody tr th {\n",
       "        vertical-align: top;\n",
       "    }\n",
       "\n",
       "    .dataframe thead th {\n",
       "        text-align: right;\n",
       "    }\n",
       "</style>\n",
       "<table border=\"1\" class=\"dataframe\">\n",
       "  <thead>\n",
       "    <tr style=\"text-align: right;\">\n",
       "      <th></th>\n",
       "      <th>EMPLOYER_NAME</th>\n",
       "      <th>SOC_NAME</th>\n",
       "      <th>JOB_TITLE</th>\n",
       "      <th>FULL_TIME_POSITION</th>\n",
       "      <th>PREVAILING_WAGE</th>\n",
       "      <th>YEAR</th>\n",
       "      <th>WORKSITE</th>\n",
       "      <th>lon</th>\n",
       "      <th>lat</th>\n",
       "      <th>CASE_STATUS</th>\n",
       "    </tr>\n",
       "  </thead>\n",
       "  <tbody>\n",
       "    <tr>\n",
       "      <th>1</th>\n",
       "      <td>85895</td>\n",
       "      <td>89</td>\n",
       "      <td>64961</td>\n",
       "      <td>0</td>\n",
       "      <td>36067.0</td>\n",
       "      <td>2016.0</td>\n",
       "      <td>57</td>\n",
       "      <td>-83.743038</td>\n",
       "      <td>42.280826</td>\n",
       "      <td>1</td>\n",
       "    </tr>\n",
       "    <tr>\n",
       "      <th>2</th>\n",
       "      <td>33862</td>\n",
       "      <td>142</td>\n",
       "      <td>17401</td>\n",
       "      <td>1</td>\n",
       "      <td>242674.0</td>\n",
       "      <td>2016.0</td>\n",
       "      <td>1757</td>\n",
       "      <td>-96.698886</td>\n",
       "      <td>33.019843</td>\n",
       "      <td>1</td>\n",
       "    </tr>\n",
       "    <tr>\n",
       "      <th>3</th>\n",
       "      <td>63687</td>\n",
       "      <td>142</td>\n",
       "      <td>17420</td>\n",
       "      <td>1</td>\n",
       "      <td>193066.0</td>\n",
       "      <td>2016.0</td>\n",
       "      <td>1025</td>\n",
       "      <td>-74.077642</td>\n",
       "      <td>40.728158</td>\n",
       "      <td>1</td>\n",
       "    </tr>\n",
       "    <tr>\n",
       "      <th>4</th>\n",
       "      <td>31840</td>\n",
       "      <td>142</td>\n",
       "      <td>74859</td>\n",
       "      <td>1</td>\n",
       "      <td>220314.0</td>\n",
       "      <td>2016.0</td>\n",
       "      <td>532</td>\n",
       "      <td>-104.990251</td>\n",
       "      <td>39.739236</td>\n",
       "      <td>1</td>\n",
       "    </tr>\n",
       "    <tr>\n",
       "      <th>5</th>\n",
       "      <td>61730</td>\n",
       "      <td>142</td>\n",
       "      <td>65535</td>\n",
       "      <td>1</td>\n",
       "      <td>157518.4</td>\n",
       "      <td>2016.0</td>\n",
       "      <td>2115</td>\n",
       "      <td>-90.199404</td>\n",
       "      <td>38.627003</td>\n",
       "      <td>3</td>\n",
       "    </tr>\n",
       "  </tbody>\n",
       "</table>\n",
       "</div>"
      ],
      "text/plain": [
       "   EMPLOYER_NAME  SOC_NAME  JOB_TITLE  FULL_TIME_POSITION  PREVAILING_WAGE  \\\n",
       "1          85895        89      64961                   0          36067.0   \n",
       "2          33862       142      17401                   1         242674.0   \n",
       "3          63687       142      17420                   1         193066.0   \n",
       "4          31840       142      74859                   1         220314.0   \n",
       "5          61730       142      65535                   1         157518.4   \n",
       "\n",
       "     YEAR  WORKSITE         lon        lat  CASE_STATUS  \n",
       "1  2016.0        57  -83.743038  42.280826            1  \n",
       "2  2016.0      1757  -96.698886  33.019843            1  \n",
       "3  2016.0      1025  -74.077642  40.728158            1  \n",
       "4  2016.0       532 -104.990251  39.739236            1  \n",
       "5  2016.0      2115  -90.199404  38.627003            3  "
      ]
     },
     "execution_count": 35,
     "metadata": {},
     "output_type": "execute_result"
    }
   ],
   "source": [
    "data2.head()"
   ]
  },
  {
   "cell_type": "code",
   "execution_count": 36,
   "metadata": {},
   "outputs": [
    {
     "data": {
      "text/plain": [
       "EMPLOYER_NAME           int32\n",
       "SOC_NAME                int16\n",
       "JOB_TITLE               int32\n",
       "FULL_TIME_POSITION       int8\n",
       "PREVAILING_WAGE       float64\n",
       "YEAR                  float64\n",
       "WORKSITE                int16\n",
       "lon                   float64\n",
       "lat                   float64\n",
       "CASE_STATUS              int8\n",
       "dtype: object"
      ]
     },
     "execution_count": 36,
     "metadata": {},
     "output_type": "execute_result"
    }
   ],
   "source": [
    "data2.dtypes"
   ]
  },
  {
   "cell_type": "code",
   "execution_count": 37,
   "metadata": {},
   "outputs": [
    {
     "data": {
      "text/plain": [
       "(1018976, 2)"
      ]
     },
     "execution_count": 37,
     "metadata": {},
     "output_type": "execute_result"
    }
   ],
   "source": [
    "from sklearn.preprocessing import StandardScaler\n",
    "from sklearn.decomposition import PCA\n",
    "X_std = StandardScaler().fit_transform(data2.iloc[:,0:9])\n",
    "pca = PCA(n_components=2)\n",
    "\n",
    "# Fit and transform the data to the model\n",
    "reduced_data_pca = pca.fit_transform(X_std)\n",
    "reduced_data_pca.shape"
   ]
  },
  {
   "cell_type": "code",
   "execution_count": 38,
   "metadata": {},
   "outputs": [
    {
     "data": {
      "image/png": "[encoded data removed]",
      "text/plain": [
       "<matplotlib.figure.Figure at 0x10cc04cf8>"
      ]
     },
     "metadata": {},
     "output_type": "display_data"
    }
   ],
   "source": [
    "colors = ['blue', 'purple', 'yellow', 'black']\n",
    "for i in range(len(colors)):\n",
    "    x = reduced_data_pca[:, 0][data2.CASE_STATUS == i+1]\n",
    "    y = reduced_data_pca[:, 1][data2.CASE_STATUS == i+1]\n",
    "    plt.scatter(x, y, c=colors[i])\n",
    "plt.legend([\"Certified-Withdrawn\",\"Certified\",\"Withdrawn\",\"Denied\"], bbox_to_anchor=(1.05, 1), loc=2, borderaxespad=0.)\n",
    "plt.xlabel('PC1')\n",
    "plt.ylabel('PC2')\n",
    "plt.title(\"PCA Scatter Plot\")\n",
    "plt.show()"
   ]
  },
  {
   "cell_type": "code",
   "execution_count": 39,
   "metadata": {},
   "outputs": [
    {
     "data": {
      "image/png": "[encoded data removed]",
      "text/plain": [
       "<matplotlib.figure.Figure at 0x10c847da0>"
      ]
     },
     "metadata": {},
     "output_type": "display_data"
    }
   ],
   "source": [
    "data2 = data2.astype('float')\n",
    "column_names = [\"EMPLOYER_NAME\",\"SOC_NAME\",\"JOB_TITLE\",\"FULL_TIME_POSITION\",\"PREVAILING_WAGE\",\"YEAR\",\"WORKSITE\",\"lon\",\"lat\",\"CASE_STATUS\"]\n",
    "fig = plt.figure(figsize=(20,15))\n",
    "ax = fig.add_subplot(111)\n",
    "cax = ax.matshow(data2.corr(), vmin=-1, vmax=1)\n",
    "fig.colorbar(cax)\n",
    "ticks = np.arange(0,10,1)\n",
    "ax.set_xticks(ticks)\n",
    "ax.set_yticks(ticks)\n",
    "ax.set_xticklabels(column_names, rotation = 45)\n",
    "ax.set_yticklabels(column_names)\n",
    "plt.show()"
   ]
  },
  {
   "cell_type": "code",
   "execution_count": 40,
   "metadata": {},
   "outputs": [
    {
     "data": {
      "text/html": [
       "<div>\n",
       "<style scoped>\n",
       "    .dataframe tbody tr th:only-of-type {\n",
       "        vertical-align: middle;\n",
       "    }\n",
       "\n",
       "    .dataframe tbody tr th {\n",
       "        vertical-align: top;\n",
       "    }\n",
       "\n",
       "    .dataframe thead th {\n",
       "        text-align: right;\n",
       "    }\n",
       "</style>\n",
       "<table border=\"1\" class=\"dataframe\">\n",
       "  <thead>\n",
       "    <tr style=\"text-align: right;\">\n",
       "      <th></th>\n",
       "      <th>EMPLOYER_NAME</th>\n",
       "      <th>SOC_NAME</th>\n",
       "      <th>JOB_TITLE</th>\n",
       "      <th>FULL_TIME_POSITION</th>\n",
       "      <th>PREVAILING_WAGE</th>\n",
       "      <th>YEAR</th>\n",
       "      <th>WORKSITE</th>\n",
       "      <th>lon</th>\n",
       "      <th>lat</th>\n",
       "      <th>CASE_STATUS</th>\n",
       "    </tr>\n",
       "  </thead>\n",
       "  <tbody>\n",
       "    <tr>\n",
       "      <th>1</th>\n",
       "      <td>1.478539</td>\n",
       "      <td>-1.240260</td>\n",
       "      <td>0.084874</td>\n",
       "      <td>-1.384190</td>\n",
       "      <td>-0.032286</td>\n",
       "      <td>0.786907</td>\n",
       "      <td>-1.658747</td>\n",
       "      <td>0.438896</td>\n",
       "      <td>0.892549</td>\n",
       "      <td>1.261964</td>\n",
       "    </tr>\n",
       "    <tr>\n",
       "      <th>2</th>\n",
       "      <td>-0.460060</td>\n",
       "      <td>-1.084868</td>\n",
       "      <td>-1.285870</td>\n",
       "      <td>0.722443</td>\n",
       "      <td>0.092641</td>\n",
       "      <td>0.786907</td>\n",
       "      <td>0.741971</td>\n",
       "      <td>-0.230137</td>\n",
       "      <td>-1.118062</td>\n",
       "      <td>1.261964</td>\n",
       "    </tr>\n",
       "    <tr>\n",
       "      <th>3</th>\n",
       "      <td>0.651133</td>\n",
       "      <td>-1.084868</td>\n",
       "      <td>-1.285322</td>\n",
       "      <td>0.722443</td>\n",
       "      <td>0.062645</td>\n",
       "      <td>0.786907</td>\n",
       "      <td>-0.291750</td>\n",
       "      <td>0.938012</td>\n",
       "      <td>0.555456</td>\n",
       "      <td>1.261964</td>\n",
       "    </tr>\n",
       "    <tr>\n",
       "      <th>4</th>\n",
       "      <td>-0.535394</td>\n",
       "      <td>-1.084868</td>\n",
       "      <td>0.370148</td>\n",
       "      <td>0.722443</td>\n",
       "      <td>0.079121</td>\n",
       "      <td>0.786907</td>\n",
       "      <td>-0.987958</td>\n",
       "      <td>-0.658298</td>\n",
       "      <td>0.340756</td>\n",
       "      <td>1.261964</td>\n",
       "    </tr>\n",
       "    <tr>\n",
       "      <th>5</th>\n",
       "      <td>0.578221</td>\n",
       "      <td>-1.084868</td>\n",
       "      <td>0.101417</td>\n",
       "      <td>0.722443</td>\n",
       "      <td>0.041151</td>\n",
       "      <td>0.786907</td>\n",
       "      <td>1.247534</td>\n",
       "      <td>0.105493</td>\n",
       "      <td>0.099284</td>\n",
       "      <td>4.449691</td>\n",
       "    </tr>\n",
       "  </tbody>\n",
       "</table>\n",
       "</div>"
      ],
      "text/plain": [
       "   EMPLOYER_NAME  SOC_NAME  JOB_TITLE  FULL_TIME_POSITION  PREVAILING_WAGE  \\\n",
       "1       1.478539 -1.240260   0.084874           -1.384190        -0.032286   \n",
       "2      -0.460060 -1.084868  -1.285870            0.722443         0.092641   \n",
       "3       0.651133 -1.084868  -1.285322            0.722443         0.062645   \n",
       "4      -0.535394 -1.084868   0.370148            0.722443         0.079121   \n",
       "5       0.578221 -1.084868   0.101417            0.722443         0.041151   \n",
       "\n",
       "       YEAR  WORKSITE       lon       lat  CASE_STATUS  \n",
       "1  0.786907 -1.658747  0.438896  0.892549     1.261964  \n",
       "2  0.786907  0.741971 -0.230137 -1.118062     1.261964  \n",
       "3  0.786907 -0.291750  0.938012  0.555456     1.261964  \n",
       "4  0.786907 -0.987958 -0.658298  0.340756     1.261964  \n",
       "5  0.786907  1.247534  0.105493  0.099284     4.449691  "
      ]
     },
     "execution_count": 40,
     "metadata": {},
     "output_type": "execute_result"
    }
   ],
   "source": [
    "df1 = (data2 - data2.mean())/data2.std()\n",
    "df1.head()"
   ]
  },
  {
   "cell_type": "code",
   "execution_count": 41,
   "metadata": {},
   "outputs": [
    {
     "data": {
      "image/png": "[encoded data removed]",
      "text/plain": [
       "<matplotlib.figure.Figure at 0x112385f28>"
      ]
     },
     "metadata": {},
     "output_type": "display_data"
    }
   ],
   "source": [
    "column_names = [\"EMPLOYER_NAME\",\"SOC_NAME\",\"JOB_TITLE\",\"FULL_TIME_POSITION\",\"PREVAILING_WAGE\",\"YEAR\",\"WORKSITE\",\"lon\",\"lat\",\"CASE_STATUS\"]\n",
    "fig = plt.figure(figsize=(20,15))\n",
    "ax = fig.add_subplot(111)\n",
    "cax = ax.matshow(df1.corr(), vmin=-1, vmax=1)\n",
    "fig.colorbar(cax)\n",
    "ticks = np.arange(0,10,1)\n",
    "ax.set_xticks(ticks)\n",
    "ax.set_yticks(ticks)\n",
    "ax.set_xticklabels(column_names, rotation = 45)\n",
    "ax.set_yticklabels(column_names)\n",
    "plt.show()"
   ]
  },
  {
   "cell_type": "code",
   "execution_count": 42,
   "metadata": {},
   "outputs": [
    {
     "data": {
      "text/plain": [
       "(713283, 9)"
      ]
     },
     "execution_count": 42,
     "metadata": {},
     "output_type": "execute_result"
    }
   ],
   "source": [
    "training_features = [\"EMPLOYER_NAME\",\"SOC_NAME\",\"JOB_TITLE\",\"FULL_TIME_POSITION\",\"PREVAILING_WAGE\",\"YEAR\",\"WORKSITE\",\"lon\",\"lat\"]\n",
    "target = \"CASE_STATUS\"\n",
    "train_x, test_x, train_y, test_y = train_test_split(data2[training_features], data2[target], train_size=0.7)\n",
    "train_x.shape"
   ]
  },
  {
   "cell_type": "code",
   "execution_count": 47,
   "metadata": {},
   "outputs": [],
   "source": [
    "clf = tree.DecisionTreeClassifier(min_samples_split = 5)\n",
    "clf = clf.fit(train_x, train_y)"
   ]
  },
  {
   "cell_type": "code",
   "execution_count": 48,
   "metadata": {},
   "outputs": [
    {
     "data": {
      "text/plain": [
       "94.348526461446582"
      ]
     },
     "execution_count": 48,
     "metadata": {},
     "output_type": "execute_result"
    }
   ],
   "source": [
    "from sklearn.metrics import accuracy_score\n",
    "train_pred = clf.predict(train_x)\n",
    "accuracy_score(train_y,train_pred)*100"
   ]
  },
  {
   "cell_type": "code",
   "execution_count": 49,
   "metadata": {},
   "outputs": [
    {
     "data": {
      "text/plain": [
       "84.709496128468757"
      ]
     },
     "execution_count": 49,
     "metadata": {},
     "output_type": "execute_result"
    }
   ],
   "source": [
    "test_pred = clf.predict(test_x)\n",
    "accuracy_score(test_y,test_pred)*100"
   ]
  },
  {
   "cell_type": "code",
   "execution_count": null,
   "metadata": {},
   "outputs": [],
   "source": []
  }
 ],
 "metadata": {
  "kernelspec": {
   "display_name": "Python 3",
   "language": "python",
   "name": "python3"
  },
  "language_info": {
   "codemirror_mode": {
    "name": "ipython",
    "version": 3
   },
   "file_extension": ".py",
   "mimetype": "text/x-python",
   "name": "python",
   "nbconvert_exporter": "python",
   "pygments_lexer": "ipython3",
   "version": "3.6.3"
  }
 },
 "nbformat": 4,
 "nbformat_minor": 2
}
